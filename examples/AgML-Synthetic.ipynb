{
 "cells": [
  {
   "cell_type": "markdown",
   "metadata": {
    "collapsed": true,
    "jupyter": {
     "outputs_hidden": true
    }
   },
   "source": [
    "# AgML Synthetic Data Pipeline\n",
    "\n",
    "AgML provides access to a pipeline for generating synthetic agricultural data, including both imagery and annotations, using the **Helios** library (https://baileylab.ucdavis.edu/software/helios/).\n",
    "\n",
    "This pipeline is located in the `agml.synthetic` module, and this notebook will demonstrate how to use this API.\n",
    "\n"
   ]
  },
  {
   "cell_type": "code",
   "execution_count": 1,
   "metadata": {},
   "outputs": [
    {
     "name": "stdout",
     "output_type": "stream",
     "text": [
      "\n",
      "\u001b[1m[\u001b[0m\u001b[34;49mnotice\u001b[0m\u001b[1;39;49m]\u001b[0m\u001b[39;49m A new release of pip is available: \u001b[0m\u001b[31;49m24.0\u001b[0m\u001b[39;49m -> \u001b[0m\u001b[32;49m24.2\u001b[0m\n",
      "\u001b[1m[\u001b[0m\u001b[34;49mnotice\u001b[0m\u001b[1;39;49m]\u001b[0m\u001b[39;49m To update, run: \u001b[0m\u001b[32;49mpip install --upgrade pip\u001b[0m\n"
     ]
    }
   ],
   "source": [
    "!pip install -q agml"
   ]
  },
  {
   "cell_type": "code",
   "execution_count": 2,
   "metadata": {},
   "outputs": [],
   "source": [
    "from pprint import pprint\n",
    "\n",
    "import agml\n",
    "\n",
    "%matplotlib inline"
   ]
  },
  {
   "cell_type": "markdown",
   "metadata": {},
   "source": [
    "## Introduction\n",
    "\n",
    "The `HeliosOptions` class provides an interface to customize the data which you want to generate through the Helios API. To begin, select the canopy which you want to use. A list of available canopies can be found [here](https://baileylab.ucdavis.edu/software/helios/_canopy_generator_doc.html), or using the method `agml.synthetic.available_canopies()`.\n",
    "\n",
    "**Note**: If this is your first time using the Helios API, then this stage will both install and compile Helios, and thus take a longer period of time."
   ]
  },
  {
   "cell_type": "code",
   "execution_count": 3,
   "metadata": {},
   "outputs": [
    {
     "name": "stdout",
     "output_type": "stream",
     "text": [
      "['HomogeneousCanopy',\n",
      " 'SphericalCrownsCanopy',\n",
      " 'ConicalCrownsCanopy',\n",
      " 'VSPGrapevine',\n",
      " 'SplitGrapevine',\n",
      " 'UnilateralGrapevine',\n",
      " 'GobletGrapevine',\n",
      " 'WhiteSpruceCanopy',\n",
      " 'Tomato',\n",
      " 'Strawberry',\n",
      " 'WalnutCanopy',\n",
      " 'SorghumCanopy',\n",
      " 'Bean']\n"
     ]
    }
   ],
   "source": [
    "# List available canopies.\n",
    "pprint(agml.synthetic.available_canopies())"
   ]
  },
  {
   "cell_type": "markdown",
   "metadata": {},
   "source": [
    "You can find information about the parameters for each canopy using the method `agml.synthetic.default_canopy_parameters`."
   ]
  },
  {
   "cell_type": "code",
   "execution_count": 4,
   "metadata": {},
   "outputs": [
    {
     "name": "stdout",
     "output_type": "stream",
     "text": [
      "{'canopy_origin': [0, 0, 0],\n",
      " 'canopy_rotation': 0,\n",
      " 'fruit_color': [0.7, 0.28, 0.2],\n",
      " 'fruit_radius': 0.03,\n",
      " 'fruit_subdivisions': 8,\n",
      " 'leaf_length': 0.2,\n",
      " 'leaf_subdivisions': [4, 3],\n",
      " 'leaf_texture_file': '/Users/amogh/miniconda3/lib/python3.12/site-packages/agml/_helios/Helios/plugins/canopygenerator/textures/TomatoLeaf_big.png',\n",
      " 'plant_count': [3, 3],\n",
      " 'plant_height': 1.0,\n",
      " 'plant_spacing': 2,\n",
      " 'row_spacing': 2,\n",
      " 'shoot_color': [0.35, 0.45, 0.2],\n",
      " 'shoot_subdivisions': 10}\n"
     ]
    }
   ],
   "source": [
    "# Let's use the Tomato canopy.\n",
    "pprint(agml.synthetic.default_canopy_parameters(\"Tomato\"))"
   ]
  },
  {
   "cell_type": "markdown",
   "metadata": {},
   "source": [
    "## Generating Data\n",
    "\n",
    "When generating data using Helios, you'll select a canopy and then modify the parameters for the canopy to customize your output. This is done using the `HeliosOptions` class. \n",
    "\n",
    "The `HeliosOptions` class provides three levels of customizability. You start by selecting your canopy:"
   ]
  },
  {
   "cell_type": "code",
   "execution_count": 5,
   "metadata": {},
   "outputs": [],
   "source": [
    "opt = agml.synthetic.HeliosOptions(\"Tomato\")"
   ]
  },
  {
   "cell_type": "markdown",
   "metadata": {},
   "source": [
    "The first level of customization is **Task Setup**. Here, you can modify the annotations for your data, as well as the labels."
   ]
  },
  {
   "cell_type": "code",
   "execution_count": 6,
   "metadata": {},
   "outputs": [],
   "source": [
    "# Creating a semantic segmentation task with fruits and leaves labeled.\n",
    "opt.annotation_type = agml.synthetic.AnnotationType.semantic_segmentation\n",
    "opt.labels = [\"fruits\", \"leaves\"]"
   ]
  },
  {
   "cell_type": "markdown",
   "metadata": {},
   "source": [
    "The second level of customization is **Environment Setup**. Here, you can adjust the camera angles and positioning, allowing you to customize the perspective of generated images.\n",
    "\n",
    "The `HeliosOptions.camera.generate_positions` method automatically computes camera position vectors based on the parameters like the number of camera views you want, distance from crops, as well as `camera_type`: you can select `linear`, which provides a row of ground camera vectors, `circular`, which provides perspectives from all ground angles, and `aerial`, which provides a top-down view of the plants."
   ]
  },
  {
   "cell_type": "code",
   "execution_count": 7,
   "metadata": {},
   "outputs": [],
   "source": [
    "# Generate camera position vectors and select image resolution.\n",
    "opt.camera.generate_positions(camera_type=\"circular\", num_views=3, crop_distance=3)\n",
    "opt.camera.image_resolution = [512, 512]"
   ]
  },
  {
   "cell_type": "markdown",
   "metadata": {},
   "source": [
    "Finally, the third level of customization is **Canopy Setup**. Here, you can adjust the geometry and texture of the generated canopy, using the parameters above."
   ]
  },
  {
   "cell_type": "code",
   "execution_count": 8,
   "metadata": {},
   "outputs": [],
   "source": [
    "# Editing a few parameters to change plant geometry.\n",
    "opt.canopy.plant_count = [4, 4]\n",
    "opt.canopy.fruit_radius = 0.05\n",
    "opt.canopy.plant_height = 0.9"
   ]
  },
  {
   "cell_type": "markdown",
   "metadata": {},
   "source": [
    "To generate the actual data, the `HeliosDataGenerator` provides a direct interface into the Helios API. It is instantiated directly from the options you give, and then you can select the number of images you want as well as the name of the dataset.\n",
    "\n",
    "By default, the dataset will be saved to `~/.agml/synthetic`, though this can be changed using `agml.backend.set_synthetic_save_path`.\n",
    "\n",
    "*Note*: The total number of images in the dataset will be the number of images provided during generation times the number of views for each camera."
   ]
  },
  {
   "cell_type": "code",
   "execution_count": 9,
   "metadata": {},
   "outputs": [
    {
     "name": "stderr",
     "output_type": "stream",
     "text": [
      "10-08-2024 13:54:10 WARNING - root: [AgML] Existing files found in the output directory `/Users/amogh/.agml/synthetic/tomato_sample`, clearing the directory.\n"
     ]
    },
    {
     "name": "stdout",
     "output_type": "stream",
     "text": [
      "Loading XML file: /Users/amogh/Projects/AgML/agml/_helios/Helios/projects/SyntheticImageAnnotation/xml/style_tomato_sample.xml...done.\n",
      "Reading XML file: /Users/amogh/Projects/AgML/agml/_helios/Helios/projects/SyntheticImageAnnotation/xml/style_tomato_sample.xml...Building canopy of tomato plants...done.\n",
      "Ground geometry...done.\n",
      "Ground consists of 1 total primitives.\n",
      "done.\n",
      "/Users/amogh/.agml/synthetic/tomato_sample/image0viewdir: mkdir -p /Users/amogh/.agml/synthetic/tomato_sample/image0/view00000/\n",
      "viewdir: mkdir -p /Users/amogh/.agml/synthetic/tomato_sample/image0/view00001/\n",
      "viewdir: mkdir -p /Users/amogh/.agml/synthetic/tomato_sample/image0/view00002/\n",
      "Rendering RGB image containing 85.505K primitives...Initializing graphics...done.\n",
      "writing JPEG image: /Users/amogh/.agml/synthetic/tomato_sample/image0/view00000/RGB_rendering.jpeg\n",
      "writing JPEG image: /Users/amogh/.agml/synthetic/tomato_sample/image0/view00001/RGB_rendering.jpeg\n",
      "writing JPEG image: /Users/amogh/.agml/synthetic/tomato_sample/image0/view00002/RGB_rendering.jpeg\n",
      "done.\n",
      "Generating labeled image containing 2 label groups...\n",
      "Initializing graphics...done.\n",
      "Performing semantic segmentation for view 0... and element: \n",
      "clusters\n",
      "leaves\n",
      "Semantic segmentation ... done.\n",
      "Performing semantic segmentation for view 1... and element: \n",
      "clusters\n",
      "leaves\n",
      "Semantic segmentation ... done.\n",
      "Performing semantic segmentation for view 2... and element: \n",
      "clusters\n",
      "leaves\n",
      "Semantic segmentation ... done.\n",
      "Loading XML file: /Users/amogh/Projects/AgML/agml/_helios/Helios/projects/SyntheticImageAnnotation/xml/style_tomato_sample.xml...done.\n",
      "Reading XML file: /Users/amogh/Projects/AgML/agml/_helios/Helios/projects/SyntheticImageAnnotation/xml/style_tomato_sample.xml...Building canopy of tomato plants...done.\n",
      "Ground geometry...done.\n",
      "Ground consists of 1 total primitives.\n",
      "done.\n",
      "/Users/amogh/.agml/synthetic/tomato_sample/image1viewdir: mkdir -p /Users/amogh/.agml/synthetic/tomato_sample/image1/view00000/\n",
      "viewdir: mkdir -p /Users/amogh/.agml/synthetic/tomato_sample/image1/view00001/\n",
      "viewdir: mkdir -p /Users/amogh/.agml/synthetic/tomato_sample/image1/view00002/\n",
      "Rendering RGB image containing 83.489K primitives...Initializing graphics...done.\n",
      "writing JPEG image: /Users/amogh/.agml/synthetic/tomato_sample/image1/view00000/RGB_rendering.jpeg\n",
      "writing JPEG image: /Users/amogh/.agml/synthetic/tomato_sample/image1/view00001/RGB_rendering.jpeg\n",
      "writing JPEG image: /Users/amogh/.agml/synthetic/tomato_sample/image1/view00002/RGB_rendering.jpeg\n",
      "done.\n",
      "Generating labeled image containing 2 label groups...\n",
      "Initializing graphics...done.\n",
      "Performing semantic segmentation for view 0... and element: \n",
      "clusters\n",
      "leaves\n",
      "Semantic segmentation ... done.\n",
      "Performing semantic segmentation for view 1... and element: \n",
      "clusters\n",
      "leaves\n",
      "Semantic segmentation ... done.\n",
      "Performing semantic segmentation for view 2... and element: \n",
      "clusters\n",
      "leaves\n",
      "Semantic segmentation ... done.\n",
      "Loading XML file: /Users/amogh/Projects/AgML/agml/_helios/Helios/projects/SyntheticImageAnnotation/xml/style_tomato_sample.xml...done.\n",
      "Reading XML file: /Users/amogh/Projects/AgML/agml/_helios/Helios/projects/SyntheticImageAnnotation/xml/style_tomato_sample.xml...Building canopy of tomato plants...done.\n",
      "Ground geometry...done.\n",
      "Ground consists of 1 total primitives.\n",
      "done.\n",
      "/Users/amogh/.agml/synthetic/tomato_sample/image2viewdir: mkdir -p /Users/amogh/.agml/synthetic/tomato_sample/image2/view00000/\n",
      "viewdir: mkdir -p /Users/amogh/.agml/synthetic/tomato_sample/image2/view00001/\n",
      "viewdir: mkdir -p /Users/amogh/.agml/synthetic/tomato_sample/image2/view00002/\n",
      "Rendering RGB image containing 83.601K primitives...Initializing graphics...done.\n",
      "writing JPEG image: /Users/amogh/.agml/synthetic/tomato_sample/image2/view00000/RGB_rendering.jpeg\n",
      "writing JPEG image: /Users/amogh/.agml/synthetic/tomato_sample/image2/view00001/RGB_rendering.jpeg\n",
      "writing JPEG image: /Users/amogh/.agml/synthetic/tomato_sample/image2/view00002/RGB_rendering.jpeg\n",
      "done.\n",
      "Generating labeled image containing 2 label groups...\n",
      "Initializing graphics...done.\n",
      "Performing semantic segmentation for view 0... and element: \n",
      "clusters\n",
      "leaves\n",
      "Semantic segmentation ... done.\n",
      "Performing semantic segmentation for view 1... and element: \n",
      "clusters\n",
      "leaves\n",
      "Semantic segmentation ... done.\n",
      "Performing semantic segmentation for view 2... and element: \n",
      "clusters\n",
      "leaves\n",
      "Semantic segmentation ... done.\n",
      "Moving Images: 100%|████████████████████████████████████████████████████████████████████████████████████████████████████████| 9/9 [00:00<00:00, 2002.16it/s]\n"
     ]
    }
   ],
   "source": [
    "# Construct the data generator.\n",
    "generator = agml.synthetic.HeliosDataGenerator(opt)\n",
    "\n",
    "# Generate the data.\n",
    "generator.generate(name=\"tomato_sample\", num_images=3, clear_existing_files=True)"
   ]
  },
  {
   "cell_type": "markdown",
   "metadata": {},
   "source": [
    "By default, the generator converts the format of the dataset to one ready for the `AgMLDataLoader`. You can use the `AgMLDataLoader.helios` method to load a dataset directly by name."
   ]
  },
  {
   "cell_type": "code",
   "execution_count": null,
   "metadata": {
    "ExecuteTime": {
     "end_time": "2024-10-05T01:08:21.769136Z",
     "start_time": "2024-10-05T01:08:21.059957Z"
    }
   },
   "outputs": [],
   "source": [
    "loader = agml.data.AgMLDataLoader.helios(\"tomato_sample\")\n",
    "_ = agml.viz.show_image_and_mask(loader[0])"
   ]
  },
  {
   "cell_type": "markdown",
   "metadata": {},
   "source": [
    "## Next Steps\n",
    "\n",
    "You're now ready to use `agml.synthetic` to generate synthetic agricultural data with Helios. "
   ]
  }
 ],
 "metadata": {
  "kernelspec": {
   "display_name": "Python 3 (ipykernel)",
   "language": "python",
   "name": "python3"
  },
  "language_info": {
   "codemirror_mode": {
    "name": "ipython",
    "version": 3
   },
   "file_extension": ".py",
   "mimetype": "text/x-python",
   "name": "python",
   "nbconvert_exporter": "python",
   "pygments_lexer": "ipython3",
   "version": "3.9.6"
  }
 },
 "nbformat": 4,
 "nbformat_minor": 4
}
