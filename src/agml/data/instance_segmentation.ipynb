{
 "cells": [
  {
   "cell_type": "markdown",
   "source": [
    "# Training"
   ],
   "metadata": {}
  },
  {
   "cell_type": "code",
   "execution_count": 1,
   "source": [
    "#immport necessary libraries\n",
    "import os\n",
    "import numpy as np\n",
    "import torch\n",
    "from PIL import Image\n",
    "\n",
    "import torchvision\n",
    "from torchvision.models.detection.faster_rcnn import FastRCNNPredictor\n",
    "from torchvision.models.detection.mask_rcnn import MaskRCNNPredictor\n",
    "\n",
    "from engine import train_one_epoch, evaluate, validate\n",
    "import utils\n",
    "import torchvision.transforms as tra\n",
    "from torchvision.transforms import functional as F\n",
    "import matplotlib.pyplot as plt\n",
    "import cv2\n",
    "#import generate_masks as gm\n",
    "import random"
   ],
   "outputs": [],
   "metadata": {}
  },
  {
   "cell_type": "markdown",
   "source": [
    "## Load up the model"
   ],
   "metadata": {}
  },
  {
   "cell_type": "code",
   "execution_count": 2,
   "source": [
    "\n",
    "#define the number of class\n",
    "num_classes=2 #background and grape\n",
    "# load an instance segmentation model pre-trained pre-trained on COCO\n",
    "model = torchvision.models.detection.maskrcnn_resnet50_fpn(pretrained=True)\n",
    "# get number of input features for the classifier\n",
    "in_features = model.roi_heads.box_predictor.cls_score.in_features\n",
    "# replace the pre-trained head with a new one\n",
    "model.roi_heads.box_predictor = FastRCNNPredictor(in_features, num_classes)\n",
    "# now get the number of input features for the mask classifier\n",
    "in_features_mask = model.roi_heads.mask_predictor.conv5_mask.in_channels\n",
    "hidden_layer = 256\n",
    "# and replace the mask predictor with a new one\n",
    "model.roi_heads.mask_predictor = MaskRCNNPredictor(in_features_mask,\n",
    "                                                    hidden_layer,\n",
    "                                                    num_classes)"
   ],
   "outputs": [],
   "metadata": {}
  },
  {
   "cell_type": "markdown",
   "source": [
    "## Create the Dataset Object and dataloader"
   ],
   "metadata": {}
  },
  {
   "cell_type": "code",
   "execution_count": 3,
   "source": [
    "import torchvision.datasets as dset\n",
    "import albumentations as A\n",
    "from datatools import COCOInstanceSegmentationDataset, get_mask_transform\n",
    "\n",
    "\n",
    "# the dataset object\n",
    "img_path=\"./images\"    #this is the path to your images\n",
    "json_path=\"./trainval_instance_segmentation.json\"  #this is the path to your json\n",
    "\n",
    "#you can add your own albumentations transforms here \n",
    "transform_list = A.Compose([\n",
    "#A.Resize(200, 300),\n",
    "#A.CenterCrop(100, 100),\n",
    "#A.RandomCrop(80, 80),\n",
    "A.HorizontalFlip(p=0.5),\n",
    "A.Rotate(limit=(-6, 6), p=0.6),\n",
    "#A.ShiftScaleRotate(rotate_limit=50, p=0.6)\n",
    "#A.SmallestMaxSize(max_size=1292, p=1)\n",
    "#A.augmentations.transforms.ShiftScaleRotate(shift_limit=0.0625, scale_limit=0.15, rotate_limit=5, p=0.5)\n",
    "A.RandomScale(scale_limit=0.2, p=0.5)\n",
    "#A.core.composition.OneOf([A.Resize(2298, 1292, interpolation=1, always_apply=False, p=1), A.Resize(3109, 1748, interpolation=1, always_apply=False, p=1), A.Resize(2568, 1444, interpolation=1, always_apply=False, p=1), A.Resize(2839, 1596, interpolation=1, always_apply=False, p=1)],p=0.5)\n",
    "#A.augmentations.transforms.Resize(2298, 1292, interpolation=1, always_apply=False, p=1)\n",
    "#A.VerticalFlip(p=0.5),\n",
    "#A.Normalize((0.5, 0.5, 0.5), (0.5, 0.5, 0.5)),\n",
    "])\n",
    "\n",
    "trainval = COCOInstanceSegmentationDataset(root = img_path,json_dir = json_path, transforms=transform_list, train=True)\n",
    "\n",
    "\n",
    "train, val = torch.utils.data.random_split(trainval, [2, 1]) # put 2 images in train and 1 in val for this dummy example\n",
    "\n",
    "\n",
    "\n",
    "# define training and validation data loaders\n",
    "data_loader = torch.utils.data.DataLoader(train, batch_size=1, shuffle=True, num_workers=0, collate_fn=utils.collate_fn)\n",
    "\n",
    "\n",
    "data_loader_validate = torch.utils.data.DataLoader(train, batch_size=1, shuffle=False, num_workers=0, collate_fn=utils.collate_fn)\n",
    "    "
   ],
   "outputs": [
    {
     "output_type": "stream",
     "name": "stdout",
     "text": [
      "loading annotations into memory...\n",
      "Done (t=0.00s)\n",
      "creating index...\n",
      "index created!\n"
     ]
    }
   ],
   "metadata": {}
  },
  {
   "cell_type": "markdown",
   "source": [
    "## Now lets train for 50 epochs"
   ],
   "metadata": {}
  },
  {
   "cell_type": "code",
   "execution_count": 4,
   "source": [
    "# now start the training process\n",
    "device = torch.device('cuda') if torch.cuda.is_available() else torch.device('cpu')\n",
    "model.to(device)\n",
    "params = [p for p in model.parameters() if p.requires_grad]\n",
    "optimizer = torch.optim.SGD(params, lr=0.009, momentum=0.9, weight_decay=0.0006)\n",
    "\n",
    "# and a learning rate scheduler (optional)\n",
    "lr_scheduler = torch.optim.lr_scheduler.StepLR(optimizer, step_size=3, gamma=1)  # optional lr scheudler (gamma is 1 by default which means no scheduling)\n",
    "\n",
    "# let's train it for 50 epochs and save after best epoch\n",
    "num_epochs = 50\n",
    "\n",
    "best_val_loss=999\n",
    "for epoch in range(num_epochs):\n",
    "    model.train()\n",
    "    # train for one epoch, printing every 10 iterations\n",
    "    train_one_epoch(model, optimizer, data_loader, device, epoch, print_freq=2)\n",
    "    # update the learning rate (optional)\n",
    "    lr_scheduler.step()\n",
    "    # evaluate and checkpoint using the validate dataset\n",
    "    best_val_loss=validate(model, data_loader_validate, device=device, best_val_loss=best_val_loss)\n",
    "\n",
    "\n",
    "print('Trained for '+str(num_epochs) + ' epochs')"
   ],
   "outputs": [
    {
     "output_type": "stream",
     "name": "stderr",
     "text": [
      "/home/pvraja/miniconda3/envs/greenhouse/lib/python3.9/site-packages/torch/nn/functional.py:718: UserWarning: Named tensors and all their associated APIs are an experimental feature and subject to change. Please do not use them for anything important until they are released as stable. (Triggered internally at  /pytorch/c10/core/TensorImpl.h:1156.)\n",
      "  return torch.max_pool2d(input, kernel_size, stride, padding, dilation, ceil_mode)\n"
     ]
    },
    {
     "output_type": "stream",
     "name": "stdout",
     "text": [
      "Epoch: [0]  [0/2]  eta: 0:00:02  lr: 0.009000  loss: 6.5906 (6.5906)  loss_classifier: 0.6580 (0.6580)  loss_box_reg: 0.3632 (0.3632)  loss_mask: 1.6684 (1.6684)  loss_objectness: 3.5628 (3.5628)  loss_rpn_box_reg: 0.3382 (0.3382)  time: 1.4230  data: 1.2495  max mem: 1153\n",
      "Epoch: [0]  [1/2]  eta: 0:00:01  lr: 0.009000  loss: 5.8709 (6.2308)  loss_classifier: 0.6467 (0.6524)  loss_box_reg: 0.3632 (0.4592)  loss_mask: 1.6684 (2.0077)  loss_objectness: 2.1773 (2.8701)  loss_rpn_box_reg: 0.1447 (0.2415)  time: 1.0884  data: 0.9327  max mem: 1467\n",
      "Epoch: [0] Total time: 0:00:02 (1.0905 s / it)\n",
      "Best Model Saved! loss: tensor(11.8631, device='cuda:0')\n",
      "Epoch: [1]  [0/2]  eta: 0:00:01  lr: 0.009000  loss: 5.6280 (5.6280)  loss_classifier: 0.2242 (0.2242)  loss_box_reg: 0.1870 (0.1870)  loss_mask: 4.4947 (4.4947)  loss_objectness: 0.5419 (0.5419)  loss_rpn_box_reg: 0.1802 (0.1802)  time: 0.8008  data: 0.6418  max mem: 1467\n",
      "Epoch: [1]  [1/2]  eta: 0:00:01  lr: 0.009000  loss: 2.6957 (4.1618)  loss_classifier: 0.2242 (0.3074)  loss_box_reg: 0.1870 (0.3000)  loss_mask: 1.3567 (2.9257)  loss_objectness: 0.2540 (0.3980)  loss_rpn_box_reg: 0.1802 (0.2308)  time: 1.0785  data: 0.9318  max mem: 1467\n",
      "Epoch: [1] Total time: 0:00:02 (1.0806 s / it)\n",
      "Best Model Saved! loss: tensor(5.8465, device='cuda:0')\n",
      "Epoch: [2]  [0/2]  eta: 0:00:02  lr: 0.009000  loss: 2.9695 (2.9695)  loss_classifier: 0.4516 (0.4516)  loss_box_reg: 0.4886 (0.4886)  loss_mask: 1.6369 (1.6369)  loss_objectness: 0.1580 (0.1580)  loss_rpn_box_reg: 0.2345 (0.2345)  time: 1.3587  data: 1.1959  max mem: 1502\n",
      "Epoch: [2]  [1/2]  eta: 0:00:01  lr: 0.009000  loss: 2.5212 (2.7454)  loss_classifier: 0.4120 (0.4318)  loss_box_reg: 0.3892 (0.4389)  loss_mask: 1.1353 (1.3861)  loss_objectness: 0.1580 (0.2773)  loss_rpn_box_reg: 0.1882 (0.2113)  time: 1.1391  data: 0.9921  max mem: 1502\n",
      "Epoch: [2] Total time: 0:00:02 (1.1411 s / it)\n",
      "Best Model Saved! loss: tensor(3.2333, device='cuda:0')\n",
      "Epoch: [3]  [0/2]  eta: 0:00:02  lr: 0.009000  loss: 1.7307 (1.7307)  loss_classifier: 0.2119 (0.2119)  loss_box_reg: 0.1048 (0.1048)  loss_mask: 0.5360 (0.5360)  loss_objectness: 0.3524 (0.3524)  loss_rpn_box_reg: 0.5256 (0.5256)  time: 1.1230  data: 0.9702  max mem: 1502\n",
      "Epoch: [3]  [1/2]  eta: 0:00:01  lr: 0.009000  loss: 1.3662 (1.5485)  loss_classifier: 0.1651 (0.1885)  loss_box_reg: 0.0756 (0.0902)  loss_mask: 0.5360 (0.5392)  loss_objectness: 0.3524 (0.3924)  loss_rpn_box_reg: 0.1507 (0.3381)  time: 1.0167  data: 0.8779  max mem: 1502\n",
      "Epoch: [3] Total time: 0:00:02 (1.0187 s / it)\n",
      "Not Saved, Current Loss: tensor(4.3850, device='cuda:0'), Best Loss: tensor(3.2333, device='cuda:0')\n",
      "empty box\n",
      "Epoch: [4]  [0/2]  eta: 0:00:00  lr: 0.009000  loss: 2.2997 (2.2997)  loss_classifier: 0.3776 (0.3776)  loss_box_reg: 0.5729 (0.5729)  loss_mask: 0.8792 (0.8792)  loss_objectness: 0.2896 (0.2896)  loss_rpn_box_reg: 0.1803 (0.1803)  time: 0.3256  data: 0.1625  max mem: 1502\n",
      "Epoch: [4]  [1/2]  eta: 0:00:00  lr: 0.009000  loss: 1.9532 (2.1264)  loss_classifier: 0.3722 (0.3749)  loss_box_reg: 0.4148 (0.4939)  loss_mask: 0.6575 (0.7683)  loss_objectness: 0.2896 (0.3109)  loss_rpn_box_reg: 0.1764 (0.1784)  time: 0.6541  data: 0.5053  max mem: 1502\n",
      "Epoch: [4] Total time: 0:00:01 (0.6561 s / it)\n",
      "Not Saved, Current Loss: tensor(5.3683, device='cuda:0'), Best Loss: tensor(3.2333, device='cuda:0')\n",
      "Epoch: [5]  [0/2]  eta: 0:00:02  lr: 0.009000  loss: 2.2122 (2.2122)  loss_classifier: 0.4885 (0.4885)  loss_box_reg: 0.5274 (0.5274)  loss_mask: 0.6747 (0.6747)  loss_objectness: 0.3687 (0.3687)  loss_rpn_box_reg: 0.1528 (0.1528)  time: 1.0883  data: 0.9234  max mem: 1502\n",
      "Epoch: [5]  [1/2]  eta: 0:00:01  lr: 0.009000  loss: 1.8010 (2.0066)  loss_classifier: 0.1574 (0.3229)  loss_box_reg: 0.0082 (0.2678)  loss_mask: 0.6747 (0.7008)  loss_objectness: 0.3687 (0.4800)  loss_rpn_box_reg: 0.1528 (0.2351)  time: 1.2862  data: 1.1388  max mem: 1502\n",
      "Epoch: [5] Total time: 0:00:02 (1.2883 s / it)\n",
      "Not Saved, Current Loss: tensor(4.3357, device='cuda:0'), Best Loss: tensor(3.2333, device='cuda:0')\n",
      "Epoch: [6]  [0/2]  eta: 0:00:02  lr: 0.009000  loss: 2.4580 (2.4580)  loss_classifier: 0.4765 (0.4765)  loss_box_reg: 0.2202 (0.2202)  loss_mask: 1.2222 (1.2222)  loss_objectness: 0.2508 (0.2508)  loss_rpn_box_reg: 0.2883 (0.2883)  time: 1.1161  data: 0.9581  max mem: 1502\n",
      "Epoch: [6]  [1/2]  eta: 0:00:01  lr: 0.009000  loss: 2.2168 (2.3374)  loss_classifier: 0.4246 (0.4505)  loss_box_reg: 0.1890 (0.2046)  loss_mask: 1.1469 (1.1846)  loss_objectness: 0.2357 (0.2433)  loss_rpn_box_reg: 0.2206 (0.2544)  time: 1.0081  data: 0.8657  max mem: 1502\n",
      "Epoch: [6] Total time: 0:00:02 (1.0100 s / it)\n",
      "Not Saved, Current Loss: tensor(4.2874, device='cuda:0'), Best Loss: tensor(3.2333, device='cuda:0')\n",
      "Epoch: [7]  [0/2]  eta: 0:00:01  lr: 0.009000  loss: 2.0978 (2.0978)  loss_classifier: 0.3510 (0.3510)  loss_box_reg: 0.3324 (0.3324)  loss_mask: 0.7439 (0.7439)  loss_objectness: 0.5218 (0.5218)  loss_rpn_box_reg: 0.1486 (0.1486)  time: 0.7510  data: 0.5977  max mem: 1502\n",
      "Epoch: [7]  [1/2]  eta: 0:00:00  lr: 0.009000  loss: 2.0978 (2.2216)  loss_classifier: 0.3510 (0.4948)  loss_box_reg: 0.3324 (0.3406)  loss_mask: 0.7439 (0.9051)  loss_objectness: 0.1818 (0.3518)  loss_rpn_box_reg: 0.1100 (0.1293)  time: 0.9510  data: 0.8024  max mem: 1502\n",
      "Epoch: [7] Total time: 0:00:01 (0.9530 s / it)\n",
      "Not Saved, Current Loss: tensor(4.1829, device='cuda:0'), Best Loss: tensor(3.2333, device='cuda:0')\n",
      "Epoch: [8]  [0/2]  eta: 0:00:02  lr: 0.009000  loss: 1.8908 (1.8908)  loss_classifier: 0.2924 (0.2924)  loss_box_reg: 0.1796 (0.1796)  loss_mask: 0.7311 (0.7311)  loss_objectness: 0.4741 (0.4741)  loss_rpn_box_reg: 0.2135 (0.2135)  time: 1.1240  data: 0.9671  max mem: 1502\n",
      "Epoch: [8]  [1/2]  eta: 0:00:01  lr: 0.009000  loss: 1.8475 (1.8691)  loss_classifier: 0.2924 (0.3244)  loss_box_reg: 0.1796 (0.2832)  loss_mask: 0.6678 (0.6995)  loss_objectness: 0.3136 (0.3939)  loss_rpn_box_reg: 0.1228 (0.1682)  time: 1.1523  data: 1.0072  max mem: 1502\n",
      "Epoch: [8] Total time: 0:00:02 (1.1544 s / it)\n",
      "Not Saved, Current Loss: tensor(3.8081, device='cuda:0'), Best Loss: tensor(3.2333, device='cuda:0')\n",
      "Epoch: [9]  [0/2]  eta: 0:00:02  lr: 0.009000  loss: 2.0438 (2.0438)  loss_classifier: 0.4011 (0.4011)  loss_box_reg: 0.4351 (0.4351)  loss_mask: 0.6645 (0.6645)  loss_objectness: 0.3386 (0.3386)  loss_rpn_box_reg: 0.2045 (0.2045)  time: 1.1096  data: 0.9459  max mem: 1502\n",
      "Epoch: [9]  [1/2]  eta: 0:00:01  lr: 0.009000  loss: 1.6947 (1.8692)  loss_classifier: 0.3763 (0.3887)  loss_box_reg: 0.3012 (0.3681)  loss_mask: 0.6220 (0.6433)  loss_objectness: 0.2835 (0.3110)  loss_rpn_box_reg: 0.1117 (0.1581)  time: 1.0036  data: 0.8427  max mem: 1502\n",
      "Epoch: [9] Total time: 0:00:02 (1.0055 s / it)\n",
      "Not Saved, Current Loss: tensor(3.5193, device='cuda:0'), Best Loss: tensor(3.2333, device='cuda:0')\n",
      "Epoch: [10]  [0/2]  eta: 0:00:01  lr: 0.009000  loss: 1.8420 (1.8420)  loss_classifier: 0.3764 (0.3764)  loss_box_reg: 0.4091 (0.4091)  loss_mask: 0.5977 (0.5977)  loss_objectness: 0.2008 (0.2008)  loss_rpn_box_reg: 0.2580 (0.2580)  time: 0.8212  data: 0.6607  max mem: 1502\n",
      "Epoch: [10]  [1/2]  eta: 0:00:00  lr: 0.009000  loss: 1.6715 (1.7568)  loss_classifier: 0.3497 (0.3631)  loss_box_reg: 0.3169 (0.3630)  loss_mask: 0.5977 (0.6041)  loss_objectness: 0.2008 (0.2488)  loss_rpn_box_reg: 0.0975 (0.1778)  time: 0.8651  data: 0.7195  max mem: 1502\n",
      "Epoch: [10] Total time: 0:00:01 (0.8671 s / it)\n",
      "Not Saved, Current Loss: tensor(3.8146, device='cuda:0'), Best Loss: tensor(3.2333, device='cuda:0')\n",
      "Epoch: [11]  [0/2]  eta: 0:00:02  lr: 0.009000  loss: 1.9393 (1.9393)  loss_classifier: 0.4795 (0.4795)  loss_box_reg: 0.4248 (0.4248)  loss_mask: 0.5759 (0.5759)  loss_objectness: 0.2119 (0.2119)  loss_rpn_box_reg: 0.2472 (0.2472)  time: 1.1074  data: 0.9495  max mem: 1502\n",
      "Epoch: [11]  [1/2]  eta: 0:00:00  lr: 0.009000  loss: 1.8368 (1.8881)  loss_classifier: 0.3800 (0.4298)  loss_box_reg: 0.4000 (0.4124)  loss_mask: 0.5759 (0.6063)  loss_objectness: 0.2119 (0.2430)  loss_rpn_box_reg: 0.1460 (0.1966)  time: 0.9247  data: 0.7740  max mem: 1502\n",
      "Epoch: [11] Total time: 0:00:01 (0.9267 s / it)\n",
      "Not Saved, Current Loss: tensor(3.9301, device='cuda:0'), Best Loss: tensor(3.2333, device='cuda:0')\n",
      "Epoch: [12]  [0/2]  eta: 0:00:01  lr: 0.009000  loss: 2.0465 (2.0465)  loss_classifier: 0.4466 (0.4466)  loss_box_reg: 0.5365 (0.5365)  loss_mask: 0.6536 (0.6536)  loss_objectness: 0.2710 (0.2710)  loss_rpn_box_reg: 0.1388 (0.1388)  time: 0.8566  data: 0.6957  max mem: 1502\n",
      "Epoch: [12]  [1/2]  eta: 0:00:00  lr: 0.009000  loss: 2.0031 (2.0248)  loss_classifier: 0.4466 (0.4467)  loss_box_reg: 0.5080 (0.5223)  loss_mask: 0.6106 (0.6321)  loss_objectness: 0.2137 (0.2423)  loss_rpn_box_reg: 0.1388 (0.1814)  time: 0.9873  data: 0.8245  max mem: 1502\n",
      "Epoch: [12] Total time: 0:00:01 (0.9901 s / it)\n",
      "Not Saved, Current Loss: tensor(4.1208, device='cuda:0'), Best Loss: tensor(3.2333, device='cuda:0')\n",
      "Epoch: [13]  [0/2]  eta: 0:00:01  lr: 0.009000  loss: 1.8890 (1.8890)  loss_classifier: 0.4313 (0.4313)  loss_box_reg: 0.5517 (0.5517)  loss_mask: 0.5467 (0.5467)  loss_objectness: 0.2021 (0.2021)  loss_rpn_box_reg: 0.1573 (0.1573)  time: 0.9525  data: 0.7872  max mem: 1512\n",
      "Epoch: [13]  [1/2]  eta: 0:00:00  lr: 0.009000  loss: 1.8890 (2.0270)  loss_classifier: 0.4313 (0.4511)  loss_box_reg: 0.5517 (0.5998)  loss_mask: 0.5467 (0.5960)  loss_objectness: 0.2021 (0.2175)  loss_rpn_box_reg: 0.1573 (0.1626)  time: 0.8934  data: 0.7421  max mem: 1537\n",
      "Epoch: [13] Total time: 0:00:01 (0.8953 s / it)\n",
      "Not Saved, Current Loss: tensor(4.1160, device='cuda:0'), Best Loss: tensor(3.2333, device='cuda:0')\n",
      "Epoch: [14]  [0/2]  eta: 0:00:01  lr: 0.009000  loss: 2.1067 (2.1067)  loss_classifier: 0.4800 (0.4800)  loss_box_reg: 0.7660 (0.7660)  loss_mask: 0.5756 (0.5756)  loss_objectness: 0.1552 (0.1552)  loss_rpn_box_reg: 0.1299 (0.1299)  time: 0.9493  data: 0.7797  max mem: 1585\n"
     ]
    }
   ],
   "metadata": {}
  }
 ],
 "metadata": {
  "orig_nbformat": 4,
  "language_info": {
   "name": "python",
   "version": "3.9.5",
   "mimetype": "text/x-python",
   "codemirror_mode": {
    "name": "ipython",
    "version": 3
   },
   "pygments_lexer": "ipython3",
   "nbconvert_exporter": "python",
   "file_extension": ".py"
  },
  "kernelspec": {
   "name": "python3",
   "display_name": "Python 3.9.5 64-bit ('greenhouse': conda)"
  },
  "interpreter": {
   "hash": "b5ce7aca4d34ff8f94d438307786aff2d0eb0a558da458d0fbdcb516a707eafe"
  }
 },
 "nbformat": 4,
 "nbformat_minor": 2
}