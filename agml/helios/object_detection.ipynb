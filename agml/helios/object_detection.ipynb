{
 "cells": [
  {
   "cell_type": "markdown",
   "source": [
    "# Training"
   ],
   "metadata": {}
  },
  {
   "cell_type": "code",
   "execution_count": null,
   "source": [
    "#import necessary libraries\n",
    "import os\n",
    "current_directory = os.getcwd()\n",
    "print(current_directory)\n",
    "import numpy as np\n",
    "import torch\n",
    "from PIL import Image\n",
    "\n",
    "import torchvision\n",
    "from torchvision.models.detection.faster_rcnn import FastRCNNPredictor\n",
    "from torchvision.models.detection.mask_rcnn import MaskRCNNPredictor\n",
    "import albumentations as A\n",
    "from training.datatools import COCOObjectDetectionDataset, get_box_transform\n",
    "\n",
    "from training.engine import train_one_epoch, evaluate, validate\n",
    "import utils\n",
    "import torchvision.transforms as tra\n",
    "from torchvision.transforms import functional as F\n",
    "import matplotlib.pyplot as plt\n",
    "import cv2\n",
    "#import generate_masks as gm\n",
    "import random"
   ],
   "outputs": [],
   "metadata": {}
  },
  {
   "cell_type": "markdown",
   "source": [
    "## Load up the model"
   ],
   "metadata": {}
  },
  {
   "cell_type": "code",
   "execution_count": null,
   "source": [
    "\n",
    "#define the number of class\n",
    "num_classes=2 #background and grape\n",
    "# load an instance segmentation model pre-trained pre-trained on COCO\n",
    "model = torchvision.models.detection.fasterrcnn_resnet50_fpn(pretrained=True)\n",
    "# get number of input features for the classifier\n",
    "in_features = model.roi_heads.box_predictor.cls_score.in_features\n",
    "# replace the pre-trained head with a new one\n",
    "model.roi_heads.box_predictor = FastRCNNPredictor(in_features, num_classes)\n"
   ],
   "outputs": [],
   "metadata": {}
  },
  {
   "cell_type": "markdown",
   "source": [
    "## Create the Dataset Object and dataloader"
   ],
   "metadata": {}
  },
  {
   "cell_type": "code",
   "execution_count": null,
   "source": [
    "import torchvision.datasets as dset\n",
    "\n",
    "# the dataset object\n",
    "img_path=\"./images\"\n",
    "json_path=\"./trainval_detection.json\"\n",
    "import albumentations as A\n",
    "\n",
    "from training.datatools import COCOObjectDetectionDataset, get_box_transform\n",
    "\n",
    "\n",
    "#you can add your own albumentations transforms here \n",
    "\n",
    "transform_list = A.Compose([\n",
    "        #A.Resize(200, 300),\n",
    "        #A.CenterCrop(100, 100),\n",
    "        #A.RandomCrop(80, 80),\n",
    "        A.HorizontalFlip(p=0.5),\n",
    "        A.Rotate(limit=(-6, 6), p=0.6),\n",
    "        #A.ShiftScaleRotate(rotate_limit=50, p=0.6)\n",
    "        #A.SmallestMaxSize(max_size=1292, p=1)\n",
    "        #A.augmentations.transforms.ShiftScaleRotate(shift_limit=0.0625, scale_limit=0.15, rotate_limit=5, p=0.5)\n",
    "        A.RandomScale(scale_limit=0.2, p=0.5)\n",
    "        #A.core.composition.OneOf([A.Resize(2298, 1292, interpolation=1, always_apply=False, p=1), A.Resize(3109, 1748, interpolation=1, always_apply=False, p=1), A.Resize(2568, 1444, interpolation=1, always_apply=False, p=1), A.Resize(2839, 1596, interpolation=1, always_apply=False, p=1)],p=0.5)\n",
    "        #A.augmentations.transforms.Resize(2298, 1292, interpolation=1, always_apply=False, p=1)\n",
    "        #A.VerticalFlip(p=0.5),\n",
    "        #A.Normalize((0.5, 0.5, 0.5), (0.5, 0.5, 0.5)),\n",
    "        ], bbox_params=A.BboxParams(format='pascal_voc', label_fields=['labels']))\n",
    "\n",
    "\n",
    "trainval = COCOObjectDetectionDataset(root = img_path,json_dir = json_path, transforms=transform_list, train=True)\n",
    "\n",
    "\n",
    "# trainval = dset.CocoDetection(root = img_path,annFile = json_path)#dataset_test = GrapeBunchDataset('test', get_transform(train=False))\n",
    "\n",
    "train, val = torch.utils.data.random_split(trainval, [2, 1]) # put 2 images in train and 1 in val for this dummy example\n",
    "\n",
    "\n",
    "\n",
    "# define training and validation data loaders\n",
    "data_loader = torch.utils.data.DataLoader(train, batch_size=1, shuffle=True, num_workers=0, collate_fn=utils.collate_fn)\n",
    "\n",
    "#data_loader_test = torch.utils.data.DataLoader(dataset_test, batch_size=1, shuffle=False, num_workers=4, collate_fn=utils.collate_fn)\n",
    "\n",
    "data_loader_validate = torch.utils.data.DataLoader(train, batch_size=1, shuffle=False, num_workers=0, collate_fn=utils.collate_fn)\n",
    "    "
   ],
   "outputs": [],
   "metadata": {}
  },
  {
   "cell_type": "markdown",
   "source": [
    "## Now lets train for 50 epochs"
   ],
   "metadata": {}
  },
  {
   "cell_type": "code",
   "execution_count": null,
   "source": [
    "# now start the training process\n",
    "device = torch.device('cuda') if torch.cuda.is_available() else torch.device('cpu')\n",
    "model.to(device)\n",
    "params = [p for p in model.parameters() if p.requires_grad]\n",
    "optimizer = torch.optim.SGD(params, lr=0.009, momentum=0.9, weight_decay=0.0006)\n",
    "\n",
    "# and a learning rate scheduler (optional)\n",
    "lr_scheduler = torch.optim.lr_scheduler.StepLR(optimizer, step_size=3, gamma=1)  # optional lr scheudler (gamma is 1 by default which means no scheduling)\n",
    "\n",
    "# let's train it for 50 epochs and save after best epoch\n",
    "num_epochs = 50\n",
    "\n",
    "best_val_loss=999\n",
    "for epoch in range(num_epochs):\n",
    "    model.train()\n",
    "    # train for one epoch, printing every 10 iterations\n",
    "    train_one_epoch(model, optimizer, data_loader, device, epoch, print_freq=2)\n",
    "    # update the learning rate (optional)\n",
    "    lr_scheduler.step()\n",
    "    # evaluate and checkpoint using the validate dataset\n",
    "    best_val_loss=validate(model, data_loader_validate, device=device, best_val_loss=best_val_loss)\n",
    "\n",
    "\n",
    "print('Trained for '+str(num_epochs) + ' epochs')"
   ],
   "outputs": [],
   "metadata": {}
  },
  {
   "cell_type": "markdown",
   "source": [],
   "metadata": {}
  }
 ],
 "metadata": {
  "interpreter": {
   "hash": "be61ae3cda2f916add796cb1469a77e5c316d71733909d85136d1c3c5d69dd77"
  },
  "kernelspec": {
   "name": "python3",
   "display_name": "Python 3.7.10 64-bit ('pytorch_venv': conda)"
  },
  "language_info": {
   "name": "python",
   "version": "3.7.10",
   "mimetype": "text/x-python",
   "codemirror_mode": {
    "name": "ipython",
    "version": 3
   },
   "pygments_lexer": "ipython3",
   "nbconvert_exporter": "python",
   "file_extension": ".py"
  }
 },
 "nbformat": 4,
 "nbformat_minor": 2
}